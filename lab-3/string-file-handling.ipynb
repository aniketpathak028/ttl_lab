{
 "cells": [
  {
   "cell_type": "code",
   "execution_count": 1,
   "metadata": {},
   "outputs": [
    {
     "name": "stdout",
     "output_type": "stream",
     "text": [
      "Unique characters: Helo Wrd"
     ]
    }
   ],
   "source": [
    "# WAP to print unique elements in a string.\n",
    "def print_unique(string):\n",
    "    unique_chars = set()\n",
    "    for char in string:\n",
    "        if char not in unique_chars:\n",
    "            unique_chars.add(char)\n",
    "            print(char, end='')\n",
    "\n",
    "input_string = input(\"Enter a string: \")\n",
    "print(\"Unique characters: \", end='')\n",
    "print_unique(input_string)"
   ]
  },
  {
   "cell_type": "code",
   "execution_count": 2,
   "metadata": {},
   "outputs": [
    {
     "name": "stdout",
     "output_type": "stream",
     "text": [
      "H: 1\n",
      "e: 1\n",
      "l: 3\n",
      "o: 2\n",
      " : 1\n",
      "W: 1\n",
      "r: 1\n",
      "d: 1\n"
     ]
    }
   ],
   "source": [
    "# WAP to count the frequency of the letter in string\n",
    "def count_frequency(string):\n",
    "    frequency = {}\n",
    "    for char in string:\n",
    "        if char in frequency:\n",
    "            frequency[char] += 1\n",
    "        else:\n",
    "            frequency[char] = 1\n",
    "    return frequency\n",
    "\n",
    "input_string = input(\"Enter a string: \")\n",
    "frequency = count_frequency(input_string)\n",
    "\n",
    "for char, count in frequency.items():\n",
    "    print(f\"{char}: {count}\")"
   ]
  },
  {
   "cell_type": "code",
   "execution_count": 3,
   "metadata": {},
   "outputs": [
    {
     "name": "stdout",
     "output_type": "stream",
     "text": [
      "Random number: 3.1968008226131817\n"
     ]
    }
   ],
   "source": [
    "# WAP to generate random floating point number from the range 3,7\n",
    "import random\n",
    "\n",
    "def generate_random():\n",
    "    return random.uniform(3, 7)\n",
    "\n",
    "print(\"Random number:\", generate_random())"
   ]
  },
  {
   "cell_type": "code",
   "execution_count": 5,
   "metadata": {},
   "outputs": [
    {
     "name": "stdout",
     "output_type": "stream",
     "text": [
      "The items in the list are: ['a', 'b']\n"
     ]
    }
   ],
   "source": [
    "# WAP to input items in the list until it gets the input ‘done’\n",
    "items = []\n",
    "while True:\n",
    "    item = input(\"Enter an item (or 'done' to stop): \")\n",
    "    if item == 'done':\n",
    "        break\n",
    "    items.append(item)\n",
    "\n",
    "print(\"The items in the list are:\", items)"
   ]
  },
  {
   "cell_type": "code",
   "execution_count": 6,
   "metadata": {},
   "outputs": [
    {
     "name": "stdout",
     "output_type": "stream",
     "text": [
      "String after removing all occurrences of 'l': Heo Word\n"
     ]
    }
   ],
   "source": [
    "# WAP to remove all the occurrence of a character in a string\n",
    "def remove_char(string, char):\n",
    "    return ''.join(c for c in string if c != char)\n",
    "\n",
    "string = input(\"Enter a string: \")\n",
    "char = input(\"Enter the character to be removed: \")\n",
    "\n",
    "result = remove_char(string, char)\n",
    "\n",
    "print(\"String after removing all occurrences of '%s': %s\" % (char, result))"
   ]
  },
  {
   "cell_type": "code",
   "execution_count": 7,
   "metadata": {},
   "outputs": [
    {
     "name": "stdout",
     "output_type": "stream",
     "text": [
      "Unique characters (lowercase): d o h   e w l r "
     ]
    }
   ],
   "source": [
    "# WAP to input strings and print the unique character and displays in lowercase.\n",
    "def unique_chars(string):\n",
    "    unique = set()\n",
    "    for char in string:\n",
    "        if char.lower() not in unique:\n",
    "            unique.add(char.lower())\n",
    "    return unique\n",
    "\n",
    "input_string = input(\"Enter a string: \")\n",
    "unique_characters = unique_chars(input_string)\n",
    "\n",
    "print(\"Unique characters (lowercase):\", end=' ')\n",
    "for char in unique_characters:\n",
    "    print(char, end=' ')"
   ]
  },
  {
   "cell_type": "code",
   "execution_count": 8,
   "metadata": {},
   "outputs": [
    {
     "name": "stdout",
     "output_type": "stream",
     "text": [
      "Letters in decreasing order of frequency:\n",
      "L: 3\n",
      "O: 2\n",
      "H: 1\n",
      "E: 1\n",
      "W: 1\n",
      "R: 1\n",
      "D: 1\n"
     ]
    }
   ],
   "source": [
    "# WAP to input strings and prints the letter in decreasing order of frequency. letter must be from A to Z.\n",
    "def count_frequency(string):\n",
    "    frequency = {}\n",
    "    for char in string:\n",
    "        char = char.upper()\n",
    "        if char >= 'A' and char <= 'Z':\n",
    "            if char in frequency:\n",
    "                frequency[char] += 1\n",
    "            else:\n",
    "                frequency[char] = 1\n",
    "    return frequency\n",
    "\n",
    "def sort_frequency(frequency):\n",
    "    return sorted(frequency.items(), key=lambda x: x[1], reverse=True)\n",
    "\n",
    "input_string = input(\"Enter a string: \")\n",
    "frequency = count_frequency(input_string)\n",
    "sorted_frequency = sort_frequency(frequency)\n",
    "\n",
    "print(\"Letters in decreasing order of frequency:\")\n",
    "for char, count in sorted_frequency:\n",
    "    print(f\"{char}: {count}\")"
   ]
  },
  {
   "cell_type": "code",
   "execution_count": 9,
   "metadata": {},
   "outputs": [
    {
     "name": "stdout",
     "output_type": "stream",
     "text": [
      "String with special characters: H&ll$ W$rld\n"
     ]
    }
   ],
   "source": [
    "# WAP to input strings and change its lowercase letters to the special character as{a-#,e-&amp;,i-*,o-$,u-@}\n",
    "def replace_special_characters(string):\n",
    "    replacements = {\n",
    "        'a': '#',\n",
    "        'e': '&',\n",
    "        'i': '*',\n",
    "        'o': '$',\n",
    "        'u': '@'\n",
    "    }\n",
    "    result = \"\"\n",
    "    for char in string:\n",
    "        if char in replacements:\n",
    "            result += replacements[char]\n",
    "        else:\n",
    "            result += char\n",
    "    return result\n",
    "\n",
    "input_string = input(\"Enter a string: \")\n",
    "replaced = replace_special_characters(input_string)\n",
    "\n",
    "print(\"String with special characters:\", replaced)"
   ]
  },
  {
   "cell_type": "code",
   "execution_count": 10,
   "metadata": {},
   "outputs": [
    {
     "name": "stdout",
     "output_type": "stream",
     "text": [
      "Common characters (lowercase): l o "
     ]
    }
   ],
   "source": [
    "# WAP to input strings and prints the common character in lowercase.\n",
    "def common_chars(string1, string2):\n",
    "    common = set()\n",
    "    string1 = set(string1.lower())\n",
    "    string2 = set(string2.lower())\n",
    "    common = string1 & string2\n",
    "    return common\n",
    "\n",
    "input_string1 = input(\"Enter first string: \")\n",
    "input_string2 = input(\"Enter second string: \")\n",
    "common_characters = common_chars(input_string1, input_string2)\n",
    "\n",
    "print(\"Common characters (lowercase):\", end=' ')\n",
    "for char in common_characters:\n",
    "    print(char, end=' ')"
   ]
  },
  {
   "cell_type": "code",
   "execution_count": 11,
   "metadata": {},
   "outputs": [
    {
     "name": "stdout",
     "output_type": "stream",
     "text": [
      "Name and marks of 10 students in decreasing order:\n",
      "Sushovan: 97\n",
      "Kushagra: 95\n",
      "Divyanshu: 91\n",
      "Vijay: 90\n",
      "Jesse: 87\n",
      "Aniket: 78\n",
      "Priyanshu: 78\n",
      "Nancy: 77\n",
      "Walter: 65\n",
      "John: 55\n"
     ]
    }
   ],
   "source": [
    "# WAP to store the student information in a dictionary as a key-value pair. The program should keeps the\n",
    "# records of 10 students and display the name and marks of 10 students in decreasing order. \n",
    "def add_student(students, student_name, marks):\n",
    "    students[student_name] = marks\n",
    "\n",
    "def sort_students(students):\n",
    "    return dict(sorted(students.items(), key=lambda x: x[1], reverse=True))\n",
    "\n",
    "students = {}\n",
    "for i in range(10):\n",
    "    student_name = input(\"Enter student name: \")\n",
    "    marks = int(input(\"Enter marks: \"))\n",
    "    add_student(students, student_name, marks)\n",
    "\n",
    "sorted_students = sort_students(students)\n",
    "\n",
    "print(\"Name and marks of 10 students in decreasing order:\")\n",
    "for student, marks in sorted_students.items():\n",
    "    print(f\"{student}: {marks}\")"
   ]
  }
 ],
 "metadata": {
  "kernelspec": {
   "display_name": "Python 3",
   "language": "python",
   "name": "python3"
  },
  "language_info": {
   "codemirror_mode": {
    "name": "ipython",
    "version": 3
   },
   "file_extension": ".py",
   "mimetype": "text/x-python",
   "name": "python",
   "nbconvert_exporter": "python",
   "pygments_lexer": "ipython3",
   "version": "3.11.1 (tags/v3.11.1:a7a450f, Dec  6 2022, 19:58:39) [MSC v.1934 64 bit (AMD64)]"
  },
  "orig_nbformat": 4,
  "vscode": {
   "interpreter": {
    "hash": "366fc43e61dc3e1cf3ac432936cc45eb1586b2ea335d1b3e1c18de6c8b76373d"
   }
  }
 },
 "nbformat": 4,
 "nbformat_minor": 2
}
